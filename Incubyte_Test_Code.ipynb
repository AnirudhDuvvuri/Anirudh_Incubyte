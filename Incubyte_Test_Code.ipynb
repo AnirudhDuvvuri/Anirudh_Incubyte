{
 "cells": [
  {
   "cell_type": "code",
   "execution_count": 1,
   "metadata": {},
   "outputs": [],
   "source": [
    "#Import standard libraries required\n",
    "import pandas as pd\n",
    "import mysql.connector"
   ]
  },
  {
   "cell_type": "code",
   "execution_count": 2,
   "metadata": {},
   "outputs": [],
   "source": [
    "#Use my.sql connector to upload the database\n",
    "Data = mysql.connector.connect(host=\"localhost\",user=\"root\",passwd= \"1234\",database=\"incubyte_test\")"
   ]
  },
  {
   "cell_type": "code",
   "execution_count": 3,
   "metadata": {},
   "outputs": [
    {
     "name": "stdout",
     "output_type": "stream",
     "text": [
      "  Customer_Name  Customer_Id   Open_date Last_Consulted_Date Vaccination_Id  \\\n",
      "0         Jacob         1256  2010-10-12          2012-10-13            MVD   \n",
      "1          Matt        12345  2010-10-12          2012-10-13            MVD   \n",
      "2          Alex       123457  2010-10-12          2012-10-13            MVD   \n",
      "3          John       123458  2010-10-12          2012-10-13            MVD   \n",
      "4        Mathew       123459  2010-10-12          2012-10-13            MVD   \n",
      "\n",
      "  Dr_Name State Country         DOB Is_Active  \n",
      "0    Paul   VIC      AU  1987-03-06       A\\r  \n",
      "1    Paul   BOS     NYC  1987-03-06       A\\r  \n",
      "2    Paul    SA     USA  1987-03-06       A\\r  \n",
      "3    Paul    TN     IND  1987-03-06       A\\r  \n",
      "4    Paul   WAS    PHIL  1987-03-06       A\\r  \n"
     ]
    }
   ],
   "source": [
    "#Read patient data into df dataframe\n",
    "df=pd.read_sql('Select * from Patient_Data',con=Data)\n",
    "print(df)"
   ]
  },
  {
   "cell_type": "markdown",
   "metadata": {},
   "source": [
    "To get the patient data from each country, run a for loop and create a new dataset for each country name. As required in the problem statement, use Table_Countryname format for the output file"
   ]
  },
  {
   "cell_type": "code",
   "execution_count": 4,
   "metadata": {},
   "outputs": [],
   "source": [
    "for name in df[\"Country\"]:\n",
    "    result_df = df[df[\"Country\"] == name]\n",
    "    result_df.to_csv(\"Table_{}.txt\".format(name), sep=\"|\", index=False)"
   ]
  }
 ],
 "metadata": {
  "kernelspec": {
   "display_name": "Python 3",
   "language": "python",
   "name": "python3"
  },
  "language_info": {
   "codemirror_mode": {
    "name": "ipython",
    "version": 3
   },
   "file_extension": ".py",
   "mimetype": "text/x-python",
   "name": "python",
   "nbconvert_exporter": "python",
   "pygments_lexer": "ipython3",
   "version": "3.8.5"
  }
 },
 "nbformat": 4,
 "nbformat_minor": 4
}
